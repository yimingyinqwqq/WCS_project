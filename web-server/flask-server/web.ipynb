{
 "cells": [
  {
   "cell_type": "markdown",
   "metadata": {
    "id": "iUUwez1BdLUB"
   },
   "source": [
    "# All Courses From CourseExplorer"
   ]
  },
  {
   "cell_type": "markdown",
   "metadata": {
    "id": "CcFP6IfZUDuz"
   },
   "source": [
    "**GET ALL DEPARTMENT NAME**"
   ]
  },
  {
   "cell_type": "code",
   "execution_count": 2,
   "metadata": {
    "id": "MmRoTtsmwRrv"
   },
   "outputs": [],
   "source": [
    "import requests\n",
    "from bs4 import BeautifulSoup as soup\n",
    "import pandas as pd\n",
    "\n",
    "year_term = \"2022/spring\"\n",
    "school_url = \"https://courses.illinois.edu/schedule/\"+(year_term)\n",
    "\n",
    "response = requests.get(school_url)\n",
    "\n",
    "department_name = []\n",
    "\n",
    "page = soup(response.text, 'html.parser')\n",
    "\n",
    "for link in page.find_all('a'):\n",
    "  candidates = str(link.get('href'))\n",
    "  if (candidates.find('/schedule/2022/spring/') != -1):\n",
    "    department_name.append(candidates[22:])"
   ]
  },
  {
   "cell_type": "markdown",
   "metadata": {
    "id": "Zywwfe4Y7wKj"
   },
   "source": [
    "**GET ALL COURSE NUMBER & NAME**"
   ]
  },
  {
   "cell_type": "code",
   "execution_count": 3,
   "metadata": {
    "colab": {
     "base_uri": "https://localhost:8080/"
    },
    "id": "8gylk8nQFlY7",
    "outputId": "15e7393a-9eb7-483a-ebd1-7a7826ae7760",
    "pycharm": {
     "is_executing": true
    }
   },
   "outputs": [],
   "source": [
    "import multiprocessing\n",
    "from multiprocessing import Pool\n",
    "import sys\n",
    "\n",
    "def job(diction, url, dep):\n",
    "  response_coures_list = requests.get(url)\n",
    "  page_courses_list = soup(response_coures_list.text, 'html.parser')\n",
    "  courses_name_nums = dict()\n",
    "  for st_a in page_courses_list.find_all('a'):\n",
    "    nums_pre = str(st_a.get('href'))\n",
    "    if ((year_term + '/' + dep) in nums_pre and 'pdf' not in nums_pre):\n",
    "      num = str(st_a.get('href'))[-3:]\n",
    "      name = st_a.string\n",
    "      courses_name_nums[num] = name\n",
    "\n",
    "  diction[dep] = courses_name_nums\n",
    "  \n",
    "\n",
    "\n",
    "url_list=[]\n",
    "manager = multiprocessing.Manager()\n",
    "all_data = manager.dict()\n",
    "\n",
    "for dep in department_name:\n",
    "  dep_url = school_url + '/' + dep\n",
    "  url_list.append(dep_url)\n",
    "\n",
    "p = Pool(15)\n",
    "sys.setrecursionlimit(2500000)\n",
    "for i in range(len(url_list)):\n",
    "  p.apply_async(job, args=(all_data, url_list[i], department_name[i]))\n",
    "  \n",
    "p.close()\n",
    "p.join()"
   ]
  },
  {
   "cell_type": "markdown",
   "metadata": {
    "id": "WkmQRhfZZVus"
   },
   "source": [
    "**SAVE NAME & NUMBER**"
   ]
  },
  {
   "cell_type": "code",
   "execution_count": null,
   "metadata": {
    "id": "O2ViH1a86Mpm"
   },
   "outputs": [],
   "source": [
    "df = pd.DataFrame()\n",
    "for i in all_data.items():\n",
    "  temp_list = []\n",
    "  for j in i[1].keys():\n",
    "    temp_list.append(j + \" \" +i[1][j])\n",
    "  temp = pd.DataFrame({i[0]: temp_list})\n",
    "  df = pd.concat([df, temp], axis=1)\n",
    "\n",
    "df.to_csv(\"course_num_name.csv\")"
   ]
  },
  {
   "cell_type": "code",
   "execution_count": null,
   "metadata": {
    "colab": {
     "base_uri": "https://localhost:8080/",
     "height": 364
    },
    "id": "uF2suDgeTA0d",
    "outputId": "f7a08046-e060-46e8-da62-b92c6bf51e53"
   },
   "outputs": [
    {
     "ename": "MessageError",
     "evalue": "ignored",
     "output_type": "error",
     "traceback": [
      "\u001b[0;31m---------------------------------------------------------------------------\u001b[0m",
      "\u001b[0;31mMessageError\u001b[0m                              Traceback (most recent call last)",
      "\u001b[0;32m<ipython-input-1-b80391d2b2cf>\u001b[0m in \u001b[0;36m<module>\u001b[0;34m()\u001b[0m\n\u001b[1;32m      1\u001b[0m \u001b[0;32mfrom\u001b[0m \u001b[0mgoogle\u001b[0m\u001b[0;34m.\u001b[0m\u001b[0mcolab\u001b[0m \u001b[0;32mimport\u001b[0m \u001b[0mdrive\u001b[0m\u001b[0;34m\u001b[0m\u001b[0;34m\u001b[0m\u001b[0m\n\u001b[0;32m----> 2\u001b[0;31m \u001b[0mdrive\u001b[0m\u001b[0;34m.\u001b[0m\u001b[0mmount\u001b[0m\u001b[0;34m(\u001b[0m\u001b[0;34m'/content/drive'\u001b[0m\u001b[0;34m)\u001b[0m\u001b[0;34m\u001b[0m\u001b[0;34m\u001b[0m\u001b[0m\n\u001b[0m\u001b[1;32m      3\u001b[0m \u001b[0;34m\u001b[0m\u001b[0m\n",
      "\u001b[0;32m/usr/local/lib/python3.7/dist-packages/google/colab/drive.py\u001b[0m in \u001b[0;36mmount\u001b[0;34m(mountpoint, force_remount, timeout_ms, use_metadata_server)\u001b[0m\n\u001b[1;32m    113\u001b[0m       \u001b[0mforce_remount\u001b[0m\u001b[0;34m=\u001b[0m\u001b[0mforce_remount\u001b[0m\u001b[0;34m,\u001b[0m\u001b[0;34m\u001b[0m\u001b[0;34m\u001b[0m\u001b[0m\n\u001b[1;32m    114\u001b[0m       \u001b[0mtimeout_ms\u001b[0m\u001b[0;34m=\u001b[0m\u001b[0mtimeout_ms\u001b[0m\u001b[0;34m,\u001b[0m\u001b[0;34m\u001b[0m\u001b[0;34m\u001b[0m\u001b[0m\n\u001b[0;32m--> 115\u001b[0;31m       ephemeral=True)\n\u001b[0m\u001b[1;32m    116\u001b[0m \u001b[0;34m\u001b[0m\u001b[0m\n\u001b[1;32m    117\u001b[0m \u001b[0;34m\u001b[0m\u001b[0m\n",
      "\u001b[0;32m/usr/local/lib/python3.7/dist-packages/google/colab/drive.py\u001b[0m in \u001b[0;36m_mount\u001b[0;34m(mountpoint, force_remount, timeout_ms, use_metadata_server, ephemeral)\u001b[0m\n\u001b[1;32m    133\u001b[0m   \u001b[0;32mif\u001b[0m \u001b[0mephemeral\u001b[0m\u001b[0;34m:\u001b[0m\u001b[0;34m\u001b[0m\u001b[0;34m\u001b[0m\u001b[0m\n\u001b[1;32m    134\u001b[0m     _message.blocking_request(\n\u001b[0;32m--> 135\u001b[0;31m         'request_auth', request={'authType': 'dfs_ephemeral'}, timeout_sec=None)\n\u001b[0m\u001b[1;32m    136\u001b[0m \u001b[0;34m\u001b[0m\u001b[0m\n\u001b[1;32m    137\u001b[0m   \u001b[0mmountpoint\u001b[0m \u001b[0;34m=\u001b[0m \u001b[0m_os\u001b[0m\u001b[0;34m.\u001b[0m\u001b[0mpath\u001b[0m\u001b[0;34m.\u001b[0m\u001b[0mexpanduser\u001b[0m\u001b[0;34m(\u001b[0m\u001b[0mmountpoint\u001b[0m\u001b[0;34m)\u001b[0m\u001b[0;34m\u001b[0m\u001b[0;34m\u001b[0m\u001b[0m\n",
      "\u001b[0;32m/usr/local/lib/python3.7/dist-packages/google/colab/_message.py\u001b[0m in \u001b[0;36mblocking_request\u001b[0;34m(request_type, request, timeout_sec, parent)\u001b[0m\n\u001b[1;32m    173\u001b[0m   request_id = send_request(\n\u001b[1;32m    174\u001b[0m       request_type, request, parent=parent, expect_reply=True)\n\u001b[0;32m--> 175\u001b[0;31m   \u001b[0;32mreturn\u001b[0m \u001b[0mread_reply_from_input\u001b[0m\u001b[0;34m(\u001b[0m\u001b[0mrequest_id\u001b[0m\u001b[0;34m,\u001b[0m \u001b[0mtimeout_sec\u001b[0m\u001b[0;34m)\u001b[0m\u001b[0;34m\u001b[0m\u001b[0;34m\u001b[0m\u001b[0m\n\u001b[0m",
      "\u001b[0;32m/usr/local/lib/python3.7/dist-packages/google/colab/_message.py\u001b[0m in \u001b[0;36mread_reply_from_input\u001b[0;34m(message_id, timeout_sec)\u001b[0m\n\u001b[1;32m    104\u001b[0m         reply.get('colab_msg_id') == message_id):\n\u001b[1;32m    105\u001b[0m       \u001b[0;32mif\u001b[0m \u001b[0;34m'error'\u001b[0m \u001b[0;32min\u001b[0m \u001b[0mreply\u001b[0m\u001b[0;34m:\u001b[0m\u001b[0;34m\u001b[0m\u001b[0;34m\u001b[0m\u001b[0m\n\u001b[0;32m--> 106\u001b[0;31m         \u001b[0;32mraise\u001b[0m \u001b[0mMessageError\u001b[0m\u001b[0;34m(\u001b[0m\u001b[0mreply\u001b[0m\u001b[0;34m[\u001b[0m\u001b[0;34m'error'\u001b[0m\u001b[0;34m]\u001b[0m\u001b[0;34m)\u001b[0m\u001b[0;34m\u001b[0m\u001b[0;34m\u001b[0m\u001b[0m\n\u001b[0m\u001b[1;32m    107\u001b[0m       \u001b[0;32mreturn\u001b[0m \u001b[0mreply\u001b[0m\u001b[0;34m.\u001b[0m\u001b[0mget\u001b[0m\u001b[0;34m(\u001b[0m\u001b[0;34m'data'\u001b[0m\u001b[0;34m,\u001b[0m \u001b[0;32mNone\u001b[0m\u001b[0;34m)\u001b[0m\u001b[0;34m\u001b[0m\u001b[0;34m\u001b[0m\u001b[0m\n\u001b[1;32m    108\u001b[0m \u001b[0;34m\u001b[0m\u001b[0m\n",
      "\u001b[0;31mMessageError\u001b[0m: Error: credential propagation was unsuccessful"
     ]
    }
   ],
   "source": [
    "from google.colab import drive\n",
    "drive.mount('/content/drive')\n",
    "\n"
   ]
  },
  {
   "cell_type": "markdown",
   "metadata": {
    "id": "mQiQWqF2poHH"
   },
   "source": [
    "**SAVE CS Department Information**"
   ]
  },
  {
   "cell_type": "code",
   "execution_count": null,
   "metadata": {
    "colab": {
     "base_uri": "https://localhost:8080/"
    },
    "id": "6yQQOs7MLSgy",
    "outputId": "13fdb5c6-5627-46a4-8955-b876013aace9"
   },
   "outputs": [
    {
     "name": "stdout",
     "output_type": "stream",
     "text": [
      "  adding: content/course_info/ (stored 0%)\n",
      "  adding: content/course_info/CMN.csv (deflated 80%)\n",
      "  adding: content/course_info/CW.csv (deflated 73%)\n",
      "  adding: content/course_info/FIN.csv (deflated 80%)\n",
      "  adding: content/course_info/ACES.csv (deflated 57%)\n",
      "  adding: content/course_info/TE.csv (deflated 69%)\n",
      "  adding: content/course_info/HEBR.csv (deflated 48%)\n",
      "  adding: content/course_info/AAS.csv (deflated 70%)\n",
      "  adding: content/course_info/ARCH.csv (deflated 77%)\n",
      "  adding: content/course_info/CZCH.csv (deflated 10%)\n",
      "  adding: content/course_info/VM.csv (deflated 68%)\n",
      "  adding: content/course_info/ANSC.csv (deflated 76%)\n",
      "  adding: content/course_info/AGCM.csv (deflated 52%)\n",
      "  adding: content/course_info/ARTJ.csv (deflated 56%)\n",
      "  adding: content/course_info/GRK.csv (deflated 61%)\n",
      "  adding: content/course_info/GLBL.csv (deflated 67%)\n",
      "  adding: content/course_info/EDPR.csv (deflated 82%)\n",
      "  adding: content/course_info/FAA.csv (deflated 51%)\n",
      "  adding: content/course_info/HIST.csv (deflated 76%)\n",
      "  adding: content/course_info/JOUR.csv (deflated 70%)\n",
      "  adding: content/course_info/ASST.csv (deflated 40%)\n",
      "  adding: content/course_info/TRST.csv (deflated 74%)\n",
      "  adding: content/course_info/SBC.csv (deflated 34%)\n",
      "  adding: content/course_info/BIOL.csv (deflated 11%)\n",
      "  adding: content/course_info/SLAV.csv (deflated 62%)\n",
      "  adding: content/course_info/NUTR.csv (deflated 74%)\n",
      "  adding: content/course_info/NRES.csv (deflated 71%)\n",
      "  adding: content/course_info/NE.csv (deflated 44%)\n",
      "  adding: content/course_info/EPSY.csv (deflated 76%)\n",
      "  adding: content/course_info/CSE.csv (deflated 71%)\n",
      "  adding: content/course_info/AIS.csv (deflated 53%)\n",
      "  adding: content/course_info/GEOL.csv (deflated 72%)\n",
      "  adding: content/course_info/ENGL.csv (deflated 75%)\n",
      "  adding: content/course_info/CHEM.csv (deflated 83%)\n",
      "  adding: content/course_info/LLS.csv (deflated 70%)\n",
      "  adding: content/course_info/LAS.csv (deflated 85%)\n",
      "  adding: content/course_info/KIN.csv (deflated 77%)\n",
      "  adding: content/course_info/ITAL.csv (deflated 70%)\n",
      "  adding: content/course_info/AFST.csv (deflated 62%)\n",
      "  adding: content/course_info/HNDI.csv (deflated 42%)\n",
      "  adding: content/course_info/TSM.csv (deflated 72%)\n",
      "  adding: content/course_info/LAT.csv (deflated 54%)\n",
      "  adding: content/course_info/GS.csv (deflated 63%)\n",
      "  adding: content/course_info/FR.csv (deflated 73%)\n",
      "  adding: content/course_info/CHBE.csv (deflated 73%)\n",
      "  adding: content/course_info/AFRO.csv (deflated 68%)\n",
      "  adding: content/course_info/WLOF.csv (deflated 50%)\n",
      "  adding: content/course_info/AFAS.csv (deflated 67%)\n",
      "  adding: content/course_info/FSHN.csv (deflated 72%)\n",
      "  adding: content/course_info/SPED.csv (deflated 71%)\n",
      "  adding: content/course_info/LCTL.csv (deflated 59%)\n",
      "  adding: content/course_info/BIOC.csv (deflated 53%)\n",
      "  adding: content/course_info/NPRE.csv (deflated 71%)\n",
      "  adding: content/course_info/EDUC.csv (deflated 77%)\n",
      "  adding: content/course_info/LAST.csv (deflated 65%)\n",
      "  adding: content/course_info/IB.csv (deflated 78%)\n",
      "  adding: content/course_info/UP.csv (deflated 67%)\n",
      "  adding: content/course_info/WGGP.csv (deflated 14%)\n",
      "  adding: content/course_info/QUEC.csv (deflated 31%)\n",
      "  adding: content/course_info/PHIL.csv (deflated 77%)\n",
      "  adding: content/course_info/ANTH.csv (deflated 68%)\n",
      "  adding: content/course_info/ARTH.csv (deflated 71%)\n",
      "  adding: content/course_info/MDIA.csv (deflated 44%)\n",
      "  adding: content/course_info/SCAN.csv (deflated 54%)\n",
      "  adding: content/course_info/BTW.csv (deflated 77%)\n",
      "  adding: content/course_info/RUSS.csv (deflated 57%)\n",
      "  adding: content/course_info/MCB.csv (deflated 81%)\n",
      "  adding: content/course_info/CS.csv (deflated 84%)\n",
      "  adding: content/course_info/PLPA.csv (deflated 29%)\n",
      "  adding: content/course_info/GMC.csv (deflated 12%)\n",
      "  adding: content/course_info/ADV.csv (deflated 72%)\n",
      "  adding: content/course_info/AHS.csv (deflated 57%)\n",
      "  adding: content/course_info/PHYS.csv (deflated 85%)\n",
      "  adding: content/course_info/ESL.csv (deflated 83%)\n",
      "  adding: content/course_info/HUM.csv (deflated 53%)\n",
      "  adding: content/course_info/SPAN.csv (deflated 80%)\n",
      "  adding: content/course_info/ACCY.csv (deflated 84%)\n",
      "  adding: content/course_info/ARTD.csv (deflated 75%)\n",
      "  adding: content/course_info/BCS.csv (deflated 43%)\n",
      "  adding: content/course_info/ECON.csv (deflated 83%)\n",
      "  adding: content/course_info/WRIT.csv (deflated 53%)\n",
      "  adding: content/course_info/LING.csv (deflated 76%)\n",
      "  adding: content/course_info/PORT.csv (deflated 68%)\n",
      "  adding: content/course_info/CB.csv (deflated 53%)\n",
      "  adding: content/course_info/YDSH.csv (deflated 31%)\n",
      "  adding: content/course_info/INFO.csv (deflated 71%)\n",
      "  adding: content/course_info/ASTR.csv (deflated 73%)\n",
      "  adding: content/course_info/ECE.csv (deflated 83%)\n",
      "  adding: content/course_info/CHLH.csv (deflated 75%)\n",
      "  adding: content/course_info/GSD.csv (deflated 59%)\n",
      "  adding: content/course_info/ABE.csv (deflated 69%)\n",
      "  adding: content/course_info/MICR.csv (deflated 31%)\n",
      "  adding: content/course_info/RMLG.csv (deflated 47%)\n",
      "  adding: content/course_info/MUSC.csv (deflated 83%)\n",
      "  adding: content/course_info/GER.csv (deflated 73%)\n",
      "  adding: content/course_info/MUS.csv (deflated 81%)\n",
      "  adding: content/course_info/NEUR.csv (deflated 69%)\n",
      "  adding: content/course_info/AGED.csv (deflated 47%)\n",
      "  adding: content/course_info/JAPN.csv (deflated 66%)\n",
      "  adding: content/course_info/ARTE.csv (deflated 56%)\n",
      "  adding: content/course_info/TMGT.csv (deflated 40%)\n",
      "  adding: content/course_info/ME.csv (deflated 81%)\n",
      "  adding: content/course_info/CHIN.csv (deflated 70%)\n",
      "  adding: content/course_info/STAT.csv (deflated 80%)\n",
      "  adding: content/course_info/CPSC.csv (deflated 69%)\n",
      "  adding: content/course_info/TURK.csv (deflated 44%)\n",
      "  adding: content/course_info/CLE.csv (deflated 88%)\n",
      "  adding: content/course_info/ERAM.csv (deflated 66%)\n",
      "  adding: content/course_info/RSOC.csv (deflated 9%)\n",
      "  adding: content/course_info/EPOL.csv (deflated 80%)\n",
      "  adding: content/course_info/UKR.csv (deflated 44%)\n",
      "  adding: content/course_info/BADM.csv (deflated 79%)\n",
      "  adding: content/course_info/ACE.csv (deflated 74%)\n",
      "  adding: content/course_info/RHET.csv (deflated 82%)\n",
      "  adding: content/course_info/PSYC.csv (deflated 77%)\n",
      "  adding: content/course_info/ENG.csv (deflated 77%)\n",
      "  adding: content/course_info/MBA.csv (deflated 68%)\n",
      "  adding: content/course_info/ESE.csv (deflated 69%)\n",
      "  adding: content/course_info/PERS.csv (deflated 48%)\n",
      "  adding: content/course_info/LER.csv (deflated 72%)\n",
      "  adding: content/course_info/ARTF.csv (deflated 52%)\n",
      "  adding: content/course_info/HDFS.csv (deflated 73%)\n",
      "  adding: content/course_info/MACS.csv (deflated 75%)\n",
      "  adding: content/course_info/MATH.csv (deflated 82%)\n",
      "  adding: content/course_info/PSM.csv (deflated 76%)\n",
      "  adding: content/course_info/BCOG.csv (deflated 26%)\n",
      "  adding: content/course_info/ENSU.csv (deflated 36%)\n",
      "  adding: content/course_info/LA.csv (deflated 77%)\n",
      "  adding: content/course_info/NS.csv (deflated 46%)\n",
      "  adding: content/course_info/HT.csv (deflated 28%)\n",
      "  adding: content/course_info/MUSE.csv (deflated 45%)\n",
      "  adding: content/course_info/FLTE.csv (deflated 38%)\n",
      "  adding: content/course_info/ATMS.csv (deflated 71%)\n",
      "  adding: content/course_info/EALC.csv (deflated 74%)\n",
      "  adding: content/course_info/MIP.csv (deflated 31%)\n",
      "  adding: content/course_info/BUS.csv (deflated 71%)\n",
      "  adding: content/course_info/CDB.csv (deflated 46%)\n",
      "  adding: content/course_info/JS.csv (deflated 43%)\n",
      "  adding: content/course_info/HORT.csv (deflated 63%)\n",
      "  adding: content/course_info/DANC.csv (deflated 77%)\n",
      "  adding: content/course_info/ENVS.csv (deflated 67%)\n",
      "  adding: content/course_info/ARAB.csv (deflated 67%)\n",
      "  adding: content/course_info/ARTS.csv (deflated 72%)\n",
      "  adding: content/course_info/PS.csv (deflated 75%)\n",
      "  adding: content/course_info/IHLT.csv (deflated 59%)\n",
      "  adding: content/course_info/CWL.csv (deflated 71%)\n",
      "  adding: content/course_info/CEE.csv (deflated 79%)\n",
      "  adding: content/course_info/GEOG.csv (deflated 72%)\n",
      "  adding: content/course_info/SOCW.csv (deflated 74%)\n",
      "  adding: content/course_info/IS.csv (deflated 78%)\n",
      "  adding: content/course_info/CI.csv (deflated 76%)\n",
      "  adding: content/course_info/MILS.csv (deflated 78%)\n",
      "  adding: content/course_info/ART.csv (deflated 69%)\n",
      "  adding: content/course_info/CLCV.csv (deflated 75%)\n",
      "  adding: content/course_info/MFST.csv (deflated 55%)\n",
      "  adding: content/course_info/TAM.csv (deflated 81%)\n",
      "  adding: content/course_info/GWS.csv (deflated 67%)\n",
      "  adding: content/course_info/LAW.csv (deflated 79%)\n",
      "  adding: content/course_info/SWAH.csv (deflated 57%)\n",
      "  adding: content/course_info/ALEC.csv (deflated 58%)\n",
      "  adding: content/course_info/POL.csv (deflated 28%)\n",
      "  adding: content/course_info/PATH.csv (deflated 67%)\n",
      "  adding: content/course_info/ASRM.csv (deflated 70%)\n",
      "  adding: content/course_info/THEA.csv (deflated 81%)\n",
      "  adding: content/course_info/BDI.csv (deflated 58%)\n",
      "  adding: content/course_info/BIOP.csv (deflated 44%)\n",
      "  adding: content/course_info/MDVL.csv (deflated 51%)\n",
      "  adding: content/course_info/REHB.csv (deflated 47%)\n",
      "  adding: content/course_info/REL.csv (deflated 73%)\n",
      "  adding: content/course_info/SE.csv (deflated 77%)\n",
      "  adding: content/course_info/EURO.csv (deflated 49%)\n",
      "  adding: content/course_info/PBIO.csv (deflated 35%)\n",
      "  adding: content/course_info/RST.csv (deflated 69%)\n",
      "  adding: content/course_info/GRKM.csv (deflated 40%)\n",
      "  adding: content/course_info/BIOE.csv (deflated 72%)\n",
      "  adding: content/course_info/SHS.csv (deflated 74%)\n",
      "  adding: content/course_info/CHP.csv (deflated 50%)\n",
      "  adding: content/course_info/SOC.csv (deflated 73%)\n",
      "  adding: content/course_info/LEAD.csv (deflated 67%)\n",
      "  adding: content/course_info/IE.csv (deflated 71%)\n",
      "  adding: content/course_info/CIC.csv (deflated 79%)\n",
      "  adding: content/course_info/MSE.csv (deflated 76%)\n",
      "  adding: content/course_info/AE.csv (deflated 74%)\n",
      "  adding: content/course_info/EIL.csv (deflated 67%)\n",
      "  adding: content/course_info/BSE.csv (deflated 74%)\n",
      "  adding: content/course_info/REES.csv (deflated 49%)\n",
      "  adding: content/course_info/ENT.csv (deflated 10%)\n",
      "  adding: content/course_info/VCM.csv (deflated 67%)\n",
      "  adding: content/course_info/SAME.csv (deflated 59%)\n",
      "  adding: content/course_info/GC.csv (deflated 54%)\n",
      "  adding: content/course_info/DTX.csv (deflated 51%)\n",
      "  adding: content/course_info/KOR.csv (deflated 60%)\n"
     ]
    }
   ],
   "source": [
    "#Multiprocessing\n",
    "import re\n",
    "import json\n",
    "import os\n",
    "if not (os.path.exists('course_info')):\n",
    "  os.mkdir('course_info')\n",
    "#school_url = \"https://courses.illinois.edu/schedule/\"+(year_term)\n",
    "\n",
    "def job_2(department):\n",
    "  #print(\"here\")\n",
    "  department_dataframe = pd.DataFrame()\n",
    "  for course_number in all_data[department]:\n",
    "    course_url = school_url + '/' + department + '/' + course_number\n",
    "    #print(course_url)\n",
    "    response = requests.get(course_url)\n",
    "    text = response.text\n",
    "    page = soup(text, 'html.parser')\n",
    "    pattern = re.compile(r\"var sectionDataObj = (.*?);$\", re.MULTILINE | re.DOTALL) #get target variable using regular expression\n",
    "    script = page.find(\"script\", text=pattern)\n",
    "    info = pattern.search(script.prettify()).group(1)\n",
    "    data = json.loads(info)     #data: list of dictionary, where each dictionary is a course\n",
    "    #print(data[0][\"crn\"])\n",
    "    crn = []\n",
    "    type_ = []\n",
    "    section = []\n",
    "    time = []\n",
    "    day = []\n",
    "    location = []\n",
    "    instructor = []\n",
    "    for course in data:\n",
    "      crn.append(course[\"crn\"].strip())\n",
    "      type_.append(course[\"type\"].split(\"meeting\\\">\")[1].split(\"</div>\")[0].strip())\n",
    "      section.append(course[\"section\"].split(\"meeting\\\">\")[1].split(\"</div>\")[0].strip())\n",
    "      time.append(course[\"time\"].split(\"meeting\\\">\")[1].split(\"</div>\")[0].strip())\n",
    "      day.append(course['day'].split(\"meeting\\\">\")[1].split(\"</div>\")[0].strip())\n",
    "      location.append(course['location'].split(\"meeting\\\">\")[1].split(\"</div>\")[0].strip())\n",
    "      instr_info = course['instructor'].split(\"meeting\\\">\")[1].split(\"</div>\")[0].strip()\n",
    "      if instr_info:\n",
    "        instr_info = instr_info[:-6].replace(\"<br />\", \" & \", 10)\n",
    "      instructor.append(instr_info)\n",
    "    course_data = pd.DataFrame({\"Course\":department+course_number, \"Name\":all_data[department][course_number].strip(), \"CRN\":crn, \"Type\":type_, \"Section\":section, \"Time\":time, \"Day\":day, \"Location\":location, \"Instructor\":instructor})\n",
    "    department_dataframe = pd.concat([department_dataframe, course_data], ignore_index=True)\n",
    "  department_dataframe.to_csv('course_info/' + department + '.csv')\n",
    "\n",
    "p = Pool(16)\n",
    "sys.setrecursionlimit(2500000)\n",
    "for i in range(len(department_name)):\n",
    "#for i in range(1):\n",
    "  p.apply_async(job_2, (department_name[i],))  \n",
    "p.close()\n",
    "p.join()\n",
    "\n",
    "!zip -r /content/course_info.zip /content/course_info"
   ]
  }
 ],
 "metadata": {
  "colab": {
   "collapsed_sections": [],
   "name": "web.ipynb",
   "provenance": []
  },
  "kernelspec": {
   "display_name": "Python 3",
   "name": "python3"
  },
  "language_info": {
   "codemirror_mode": {
    "name": "ipython",
    "version": 3
   },
   "file_extension": ".py",
   "mimetype": "text/x-python",
   "name": "python",
   "nbconvert_exporter": "python",
   "pygments_lexer": "ipython3",
   "version": "3.8.5"
  }
 },
 "nbformat": 4,
 "nbformat_minor": 0
}
