{
  "cells": [
    {
      "cell_type": "code",
      "execution_count": 2,
      "metadata": {
        "colab": {
          "base_uri": "https://localhost:8080/"
        },
        "id": "Kgyz7YzPPr1u",
        "outputId": "a3794228-664a-47ec-f9b7-06a442c7dc5f"
      },
      "outputs": [
        {
          "name": "stdout",
          "output_type": "stream",
          "text": [
            "<class 'list'>\n"
          ]
        }
      ],
      "source": [
        "from networkx.readwrite.json_graph import jit\n",
        "import json\n",
        "import numpy as np\n",
        "import pandas as pd\n",
        "import matplotlib.pyplot as plt\n",
        "import networkx as nx\n",
        "\n",
        "G = nx.Graph()\n",
        "with open('name_course_list.json') as json_file:\n",
        "    data = json.load(json_file)\n",
        "name = []\n",
        "name_course = dict()\n",
        "for person in data:\n",
        "  for key in person.keys():\n",
        "    name.append(key)\n",
        "    name_course[key] = person[key]\n",
        "\n",
        "\n",
        "G.add_nodes_from(name[:201])\n",
        "\n",
        "edge_list = []\n",
        "set_list = []\n",
        "\n",
        "for i in range(len(name)):\n",
        "  for j in range(i + 1, len(name)):\n",
        "      count = 0\n",
        "      for course in name_course[name[i]]:\n",
        "        if course in name_course[name[j]]:\n",
        "          count += 1\n",
        "      if (count != 0):\n",
        "        edge_list.append((name[i], name[j], count))\n",
        "\n",
        "G.add_weighted_edges_from(edge_list) \n",
        "print(type(name))"
      ]
    },
    {
      "cell_type": "code",
      "execution_count": null,
      "metadata": {
        "id": "SWs_sTe9T0um"
      },
      "outputs": [],
      "source": [
        "size_ = []\n",
        "for i in range(len(name)):\n",
        "  size_.append(1000)\n",
        "plt.figure(figsize=(500, 500))\n",
        "nx.draw(G)"
      ]
    }
  ],
  "metadata": {
    "colab": {
      "collapsed_sections": [],
      "name": "graph_modeling_for_CS_Students.ipynb",
      "provenance": []
    },
    "kernelspec": {
      "display_name": "Python 3",
      "name": "python3"
    },
    "language_info": {
      "name": "python"
    }
  },
  "nbformat": 4,
  "nbformat_minor": 0
}
